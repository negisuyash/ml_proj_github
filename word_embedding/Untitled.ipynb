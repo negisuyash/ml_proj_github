{
 "cells": [
  {
   "cell_type": "code",
   "execution_count": 3,
   "metadata": {},
   "outputs": [],
   "source": [
    "import pandas as pd \n",
    "import tensorflow as tf \n",
    "#import matplotlib.pyplot as plt \n",
    "import numpy as np "
   ]
  },
  {
   "cell_type": "code",
   "execution_count": 17,
   "metadata": {},
   "outputs": [
    {
     "name": "stdout",
     "output_type": "stream",
     "text": [
      "                        0\n",
      "0               28.464536\n",
      "1              28.4476783\n",
      "2             28.45060518\n",
      "3       28.46705306941655\n",
      "4       28.47559833333333\n",
      "5       28.46705306941655\n",
      "6              28.4859103\n",
      "7             28.50427754\n",
      "8              28.4512372\n",
      "9      28.472815947120495\n",
      "10      28.47204029560089\n",
      "11            28.41409992\n",
      "12             28.4640685\n",
      "13             28.4620959\n",
      "14            28.48661114\n",
      "15             28.5062985\n",
      "16             28.4675452\n",
      "17             28.4617113\n",
      "18     28.475516438484192\n",
      "19      28.45555333706083\n",
      "20             28.4710968\n",
      "21            28.51102671\n",
      "22             28.4571634\n",
      "23             28.4607675\n",
      "24               28.40495\n",
      "25             28.4332475\n",
      "26      28.45366333333333\n",
      "27              28.381413\n",
      "28     28.481469999999998\n",
      "29             28.4593564\n",
      "...                   ...\n",
      "17248         28.48517662\n",
      "17249   28.41730166666667\n",
      "17250          28.4865608\n",
      "17251          28.4783526\n",
      "17252          28.4624405\n",
      "17253         28.37275394\n",
      "17254          28.4728123\n",
      "17255  28.431229999999996\n",
      "17256         28.48971954\n",
      "17257  28.468395868275117\n",
      "17258          28.4124659\n",
      "17259  28.411336541175842\n",
      "17260         28.49111787\n",
      "17261   28.45935881137848\n",
      "17262          28.4165175\n",
      "17263           28.454275\n",
      "17264            28.47941\n",
      "17265  28.414748333333332\n",
      "17266  28.477984070777893\n",
      "17267           28.523396\n",
      "17268         28.39158462\n",
      "17269         28.48035294\n",
      "17270         28.48591423\n",
      "17271  28.480216666666667\n",
      "17272  28.504266666666663\n",
      "17273          28.4859325\n",
      "17274         28.46147598\n",
      "17275          28.4631581\n",
      "17276  28.456378333333337\n",
      "17277          28.5092468\n",
      "\n",
      "[17273 rows x 1 columns]\n",
      "                       0\n",
      "0             77.0232542\n",
      "1             77.0939654\n",
      "2            77.03513871\n",
      "3      77.03372778437125\n",
      "4              77.078655\n",
      "5      77.03372778437125\n",
      "6             77.0195092\n",
      "7            77.02911899\n",
      "8             77.0915204\n",
      "9      77.01040850184049\n",
      "10     77.05166280269623\n",
      "11           77.06884204\n",
      "12            77.0250183\n",
      "13            77.0121127\n",
      "14           77.06265394\n",
      "15            77.0416418\n",
      "16            77.0811043\n",
      "17            77.0450884\n",
      "18     77.04868018627167\n",
      "19     77.05054440421327\n",
      "20            77.0486671\n",
      "21           77.04538535\n",
      "22             77.094271\n",
      "23            77.0438154\n",
      "24             77.047321\n",
      "25            77.0469229\n",
      "26     77.09620666666666\n",
      "27            77.0601571\n",
      "28     77.04699000000001\n",
      "29            77.0934045\n",
      "...                  ...\n",
      "17248        77.07366802\n",
      "17249  77.05582833333332\n",
      "17250         77.0626641\n",
      "17251         77.0421992\n",
      "17252         77.0451391\n",
      "17253        77.07903116\n",
      "17254         77.0024381\n",
      "17255           77.09867\n",
      "17256        77.07951179\n",
      "17257  77.00806357734469\n",
      "17258         77.0437186\n",
      "17259  77.05304682254791\n",
      "17260        77.07756702\n",
      "17261  77.09317803382874\n",
      "17262         77.0350843\n",
      "17263  77.09525333333333\n",
      "17264         77.0586618\n",
      "17265  77.03499000000001\n",
      "17266  77.06210732460022\n",
      "17267         77.0440331\n",
      "17268        77.06358543\n",
      "17269        77.01293693\n",
      "17270        77.01946806\n",
      "17271  77.01491166666666\n",
      "17272  77.02915333333334\n",
      "17273        77.01937374\n",
      "17274        77.04048555\n",
      "17275         77.0248011\n",
      "17276  77.08156166666666\n",
      "17277         77.0943978\n",
      "\n",
      "[17273 rows x 1 columns]\n"
     ]
    }
   ],
   "source": [
    "required=['loc','d_hub']\n",
    "df=pd.read_csv('train_data_full.csv',usecols=required)\n",
    "#print(df)\n",
    "#df=df['loc','d_hub']\n",
    "df=df.dropna()\n",
    "\n",
    "coor_x=df['loc'].str.extract(r'.*\\[(.*)\\,.*')\n",
    "coor_y=df['loc'].str.extract(r'.*\\,(.*)\\].*')\n",
    "#for i in df['loc']:\n",
    "    #spilter=i.split(',')\n",
    "    #coor_x.append(float(spilter[0].strip()))\n",
    "    #coor_y.append(float(spilter[1]))\n",
    "print(coor_x)\n",
    "print(coor_y)\n"
   ]
  },
  {
   "cell_type": "code",
   "execution_count": 18,
   "metadata": {},
   "outputs": [
    {
     "name": "stdout",
     "output_type": "stream",
     "text": [
      "       d     coor_x     coor_y\n",
      "0      0  28.464536  77.023254\n",
      "1      1  28.447678  77.093965\n",
      "2      0  28.450605  77.035139\n",
      "3      0  28.467053  77.033728\n",
      "4      1  28.475598  77.078655\n",
      "5      0  28.467053  77.033728\n",
      "6      0  28.485910  77.019509\n",
      "7      0  28.504278  77.029119\n",
      "8      1  28.451237  77.091520\n",
      "9      0  28.472816  77.010409\n",
      "10     0  28.472040  77.051663\n",
      "11     2  28.414100  77.068842\n",
      "12     0  28.464068  77.025018\n",
      "13     0  28.462096  77.012113\n",
      "14     1  28.486611  77.062654\n",
      "15     0  28.506298  77.041642\n",
      "16     1  28.467545  77.081104\n",
      "17     0  28.461711  77.045088\n",
      "18     0  28.475516  77.048680\n",
      "19     3  28.455553  77.050544\n",
      "20     0  28.471097  77.048667\n",
      "21     3  28.511027  77.045385\n",
      "22     1  28.457163  77.094271\n",
      "23     0  28.460767  77.043815\n",
      "24     4  28.404950  77.047321\n",
      "25     4  28.433247  77.046923\n",
      "26     1  28.453663  77.096207\n",
      "27     4  28.381413  77.060157\n",
      "28     0  28.481470  77.046990\n",
      "29     1  28.459356  77.093405\n",
      "...   ..        ...        ...\n",
      "17248  1  28.485177  77.073668\n",
      "17249  4  28.417302  77.055828\n",
      "17250  1  28.486561  77.062664\n",
      "17251  3  28.478353  77.042199\n",
      "17252  3  28.462441  77.045139\n",
      "17253  4  28.372754  77.079031\n",
      "17254  0  28.472812  77.002438\n",
      "17255  1  28.431230  77.098670\n",
      "17256  1  28.489720  77.079512\n",
      "17257  0  28.468396  77.008064\n",
      "17258  4  28.412466  77.043719\n",
      "17259  4  28.411337  77.053047\n",
      "17260  1  28.491118  77.077567\n",
      "17261  1  28.459359  77.093178\n",
      "17262  4  28.416517  77.035084\n",
      "17263  1  28.454275  77.095253\n",
      "17264  0  28.479410  77.058662\n",
      "17265  4  28.414748  77.034990\n",
      "17266  0  28.477984  77.062107\n",
      "17267  0  28.523396  77.044033\n",
      "17268  4  28.391585  77.063585\n",
      "17269  0  28.480353  77.012937\n",
      "17270  0  28.485914  77.019468\n",
      "17271  0  28.480217  77.014912\n",
      "17272  3  28.504267  77.029153\n",
      "17273  0  28.485933  77.019374\n",
      "17274  0  28.461476  77.040486\n",
      "17275  0  28.463158  77.024801\n",
      "17276  1  28.456378  77.081562\n",
      "17277  0  28.509247  77.094398\n",
      "\n",
      "[17273 rows x 3 columns]\n"
     ]
    }
   ],
   "source": [
    "list_of_hubs=[]\n",
    "\n",
    "for i in df['d_hub']:\n",
    "\tif i not in list_of_hubs:\n",
    "\t\tlist_of_hubs.append(i) \n",
    "\n",
    "\n",
    "#print(\"number of unique d_hubs:\"+str(len(list_of_hubs)))\n",
    "size=len(list_of_hubs)\n",
    "\n",
    "#coor_x=[]\n",
    "#coor_y=[]\n",
    "\n",
    "#print(df['loc'])\n",
    "\n",
    "#df['loc']=df['loc'].str.extract(r'.*\\[(.*)\\].*')\n",
    "#print(df['loc'])\n",
    "\n",
    "\"\"\"for i in df['loc']:\n",
    "\tsplitter=[]\n",
    "\tsplitter=i.split(',')\n",
    "\tcoor_x.append(float(splitter[0]))\n",
    "\tcoor_y.append(float(splitter[1]))\n",
    "print(\"coor_x:\")\n",
    "print(coor_x)\n",
    "print(\"coor_y:\")\n",
    "print(coor_y)\"\"\"\n",
    "list_d=[]\n",
    "for i in df['d_hub']:\n",
    "\tlist_d.append(list_of_hubs.index(i))\n",
    "\n",
    "df['d']=list_d\n",
    "df['coor_x']=coor_x\n",
    "df['coor_y']=coor_y\n",
    "del df['loc']\n",
    "del df['d_hub']\n",
    "df[['coor_x','coor_y']]=df[['coor_x','coor_y']].apply(pd.to_numeric)\n",
    "\n",
    "    \n",
    "\n",
    "\n",
    "print(df)\n",
    "\n",
    "\n",
    "\"\"\"plt.scatter(df['coor_x'],df['coor_y'])\n",
    "plt.show()\"\"\"\n",
    "\n",
    "input_x=df.loc[:,[\"coor_x\",\"coor_y\"]].values\n",
    "input_y=df.loc[:,[\"d\"]].values\n",
    "#test_x=df.loc[55:63,[\"coor_x\",\"coor_y\"]].values\n",
    "#test_y=df.loc[55:63,[\"d\"]].values"
   ]
  },
  {
   "cell_type": "code",
   "execution_count": 19,
   "metadata": {},
   "outputs": [],
   "source": [
    "#LEARNING HERE\n",
    "x=tf.placeholder(tf.float32,[None,2])\n",
    "y=tf.placeholder(tf.float32,[None,1])\n",
    "\n",
    "#layer 1\n",
    "w1=tf.Variable(tf.truncated_normal(shape=[2,100],stddev=0.1))\n",
    "b1=tf.Variable(tf.zeros([100]))\n",
    "h1=tf.nn.relu(tf.add(tf.matmul(x,w1),b1))\n",
    "#w=tf.Variable(tf.zeros([2,size]))\n",
    "#b=tf.Variable(tf.zeros([size]))\n",
    "#layer 2\n",
    "w2=tf.Variable(tf.truncated_normal(shape=[100,60],stddev=0.1))\n",
    "b2=tf.Variable(tf.zeros([60]))\n",
    "h2=tf.nn.relu(tf.matmul(h1,w2)+b2)\n",
    "\n",
    "#layer 3\n",
    "w3=tf.Variable(tf.truncated_normal(shape=[60,20],stddev=0.1))\n",
    "b3=tf.Variable(tf.zeros([20]))\n",
    "h3=tf.nn.relu(tf.matmul(h2,w3)+b3)\n",
    "\n",
    "\n",
    "\n",
    "w4=tf.Variable(tf.truncated_normal(shape=[20,size],stddev=0.1))\n",
    "b4=tf.Variable(tf.zeros([size]))\n",
    "\n",
    "\n",
    "predicted=tf.add(tf.matmul(h3,w4),b4)\n",
    "#curve_handle=tf.reciprocal(1+tf.exp(-predicted))\n"
   ]
  },
  {
   "cell_type": "code",
   "execution_count": 20,
   "metadata": {},
   "outputs": [],
   "source": [
    "\n",
    "\n",
    "learning_rate=0.01\n",
    "training_epochs=25000\n",
    "display_steps=1000\n",
    "n_samples=input_y.size\n",
    "\n",
    "#cost=tf.reduce_sum(tf.pow(y-predicted,2))/(2*n_samples)\n",
    "y_=tf.reciprocal(1 + tf.exp(-predicted))\n",
    "cost=tf.reduce_sum(tf.pow(y-y_,2))/(n_samples)\n",
    "optimizer=tf.train.GradientDescentOptimizer(learning_rate).minimize(cost)\n",
    "\n"
   ]
  },
  {
   "cell_type": "code",
   "execution_count": 21,
   "metadata": {},
   "outputs": [
    {
     "name": "stdout",
     "output_type": "stream",
     "text": [
      "training  0000  cost= nan\n"
     ]
    },
    {
     "ename": "KeyboardInterrupt",
     "evalue": "",
     "output_type": "error",
     "traceback": [
      "\u001b[1;31m---------------------------------------------------------------------------\u001b[0m",
      "\u001b[1;31mKeyboardInterrupt\u001b[0m                         Traceback (most recent call last)",
      "\u001b[1;32m<ipython-input-21-5396bb352eab>\u001b[0m in \u001b[0;36m<module>\u001b[1;34m\u001b[0m\n\u001b[0;32m      4\u001b[0m \u001b[1;33m\u001b[0m\u001b[0m\n\u001b[0;32m      5\u001b[0m \u001b[1;32mfor\u001b[0m \u001b[0mi\u001b[0m \u001b[1;32min\u001b[0m \u001b[0mrange\u001b[0m\u001b[1;33m(\u001b[0m\u001b[0mtraining_epochs\u001b[0m\u001b[1;33m)\u001b[0m\u001b[1;33m:\u001b[0m\u001b[1;33m\u001b[0m\u001b[0m\n\u001b[1;32m----> 6\u001b[1;33m     \u001b[0msess\u001b[0m\u001b[1;33m.\u001b[0m\u001b[0mrun\u001b[0m\u001b[1;33m(\u001b[0m\u001b[0moptimizer\u001b[0m\u001b[1;33m,\u001b[0m\u001b[0mfeed_dict\u001b[0m\u001b[1;33m=\u001b[0m\u001b[1;33m{\u001b[0m\u001b[0mx\u001b[0m\u001b[1;33m:\u001b[0m\u001b[0minput_x\u001b[0m\u001b[1;33m,\u001b[0m\u001b[0my\u001b[0m\u001b[1;33m:\u001b[0m\u001b[0minput_y\u001b[0m\u001b[1;33m}\u001b[0m\u001b[1;33m)\u001b[0m\u001b[1;33m\u001b[0m\u001b[0m\n\u001b[0m\u001b[0;32m      7\u001b[0m     \u001b[1;32mif\u001b[0m \u001b[0mi\u001b[0m\u001b[1;33m%\u001b[0m\u001b[0mdisplay_steps\u001b[0m\u001b[1;33m==\u001b[0m\u001b[1;36m0\u001b[0m\u001b[1;33m:\u001b[0m\u001b[1;33m\u001b[0m\u001b[0m\n\u001b[0;32m      8\u001b[0m         \u001b[0mc\u001b[0m\u001b[1;33m=\u001b[0m\u001b[0msess\u001b[0m\u001b[1;33m.\u001b[0m\u001b[0mrun\u001b[0m\u001b[1;33m(\u001b[0m\u001b[0mcost\u001b[0m\u001b[1;33m,\u001b[0m\u001b[0mfeed_dict\u001b[0m\u001b[1;33m=\u001b[0m\u001b[1;33m{\u001b[0m\u001b[0mx\u001b[0m\u001b[1;33m:\u001b[0m\u001b[0minput_x\u001b[0m\u001b[1;33m,\u001b[0m\u001b[0my\u001b[0m\u001b[1;33m:\u001b[0m\u001b[0minput_y\u001b[0m\u001b[1;33m}\u001b[0m\u001b[1;33m)\u001b[0m\u001b[1;33m\u001b[0m\u001b[0m\n",
      "\u001b[1;32mc:\\users\\spidern3mo\\appdata\\local\\programs\\python\\python36\\lib\\site-packages\\tensorflow\\python\\client\\session.py\u001b[0m in \u001b[0;36mrun\u001b[1;34m(self, fetches, feed_dict, options, run_metadata)\u001b[0m\n\u001b[0;32m    927\u001b[0m     \u001b[1;32mtry\u001b[0m\u001b[1;33m:\u001b[0m\u001b[1;33m\u001b[0m\u001b[0m\n\u001b[0;32m    928\u001b[0m       result = self._run(None, fetches, feed_dict, options_ptr,\n\u001b[1;32m--> 929\u001b[1;33m                          run_metadata_ptr)\n\u001b[0m\u001b[0;32m    930\u001b[0m       \u001b[1;32mif\u001b[0m \u001b[0mrun_metadata\u001b[0m\u001b[1;33m:\u001b[0m\u001b[1;33m\u001b[0m\u001b[0m\n\u001b[0;32m    931\u001b[0m         \u001b[0mproto_data\u001b[0m \u001b[1;33m=\u001b[0m \u001b[0mtf_session\u001b[0m\u001b[1;33m.\u001b[0m\u001b[0mTF_GetBuffer\u001b[0m\u001b[1;33m(\u001b[0m\u001b[0mrun_metadata_ptr\u001b[0m\u001b[1;33m)\u001b[0m\u001b[1;33m\u001b[0m\u001b[0m\n",
      "\u001b[1;32mc:\\users\\spidern3mo\\appdata\\local\\programs\\python\\python36\\lib\\site-packages\\tensorflow\\python\\client\\session.py\u001b[0m in \u001b[0;36m_run\u001b[1;34m(self, handle, fetches, feed_dict, options, run_metadata)\u001b[0m\n\u001b[0;32m   1150\u001b[0m     \u001b[1;32mif\u001b[0m \u001b[0mfinal_fetches\u001b[0m \u001b[1;32mor\u001b[0m \u001b[0mfinal_targets\u001b[0m \u001b[1;32mor\u001b[0m \u001b[1;33m(\u001b[0m\u001b[0mhandle\u001b[0m \u001b[1;32mand\u001b[0m \u001b[0mfeed_dict_tensor\u001b[0m\u001b[1;33m)\u001b[0m\u001b[1;33m:\u001b[0m\u001b[1;33m\u001b[0m\u001b[0m\n\u001b[0;32m   1151\u001b[0m       results = self._do_run(handle, final_targets, final_fetches,\n\u001b[1;32m-> 1152\u001b[1;33m                              feed_dict_tensor, options, run_metadata)\n\u001b[0m\u001b[0;32m   1153\u001b[0m     \u001b[1;32melse\u001b[0m\u001b[1;33m:\u001b[0m\u001b[1;33m\u001b[0m\u001b[0m\n\u001b[0;32m   1154\u001b[0m       \u001b[0mresults\u001b[0m \u001b[1;33m=\u001b[0m \u001b[1;33m[\u001b[0m\u001b[1;33m]\u001b[0m\u001b[1;33m\u001b[0m\u001b[0m\n",
      "\u001b[1;32mc:\\users\\spidern3mo\\appdata\\local\\programs\\python\\python36\\lib\\site-packages\\tensorflow\\python\\client\\session.py\u001b[0m in \u001b[0;36m_do_run\u001b[1;34m(self, handle, target_list, fetch_list, feed_dict, options, run_metadata)\u001b[0m\n\u001b[0;32m   1326\u001b[0m     \u001b[1;32mif\u001b[0m \u001b[0mhandle\u001b[0m \u001b[1;32mis\u001b[0m \u001b[1;32mNone\u001b[0m\u001b[1;33m:\u001b[0m\u001b[1;33m\u001b[0m\u001b[0m\n\u001b[0;32m   1327\u001b[0m       return self._do_call(_run_fn, feeds, fetches, targets, options,\n\u001b[1;32m-> 1328\u001b[1;33m                            run_metadata)\n\u001b[0m\u001b[0;32m   1329\u001b[0m     \u001b[1;32melse\u001b[0m\u001b[1;33m:\u001b[0m\u001b[1;33m\u001b[0m\u001b[0m\n\u001b[0;32m   1330\u001b[0m       \u001b[1;32mreturn\u001b[0m \u001b[0mself\u001b[0m\u001b[1;33m.\u001b[0m\u001b[0m_do_call\u001b[0m\u001b[1;33m(\u001b[0m\u001b[0m_prun_fn\u001b[0m\u001b[1;33m,\u001b[0m \u001b[0mhandle\u001b[0m\u001b[1;33m,\u001b[0m \u001b[0mfeeds\u001b[0m\u001b[1;33m,\u001b[0m \u001b[0mfetches\u001b[0m\u001b[1;33m)\u001b[0m\u001b[1;33m\u001b[0m\u001b[0m\n",
      "\u001b[1;32mc:\\users\\spidern3mo\\appdata\\local\\programs\\python\\python36\\lib\\site-packages\\tensorflow\\python\\client\\session.py\u001b[0m in \u001b[0;36m_do_call\u001b[1;34m(self, fn, *args)\u001b[0m\n\u001b[0;32m   1332\u001b[0m   \u001b[1;32mdef\u001b[0m \u001b[0m_do_call\u001b[0m\u001b[1;33m(\u001b[0m\u001b[0mself\u001b[0m\u001b[1;33m,\u001b[0m \u001b[0mfn\u001b[0m\u001b[1;33m,\u001b[0m \u001b[1;33m*\u001b[0m\u001b[0margs\u001b[0m\u001b[1;33m)\u001b[0m\u001b[1;33m:\u001b[0m\u001b[1;33m\u001b[0m\u001b[0m\n\u001b[0;32m   1333\u001b[0m     \u001b[1;32mtry\u001b[0m\u001b[1;33m:\u001b[0m\u001b[1;33m\u001b[0m\u001b[0m\n\u001b[1;32m-> 1334\u001b[1;33m       \u001b[1;32mreturn\u001b[0m \u001b[0mfn\u001b[0m\u001b[1;33m(\u001b[0m\u001b[1;33m*\u001b[0m\u001b[0margs\u001b[0m\u001b[1;33m)\u001b[0m\u001b[1;33m\u001b[0m\u001b[0m\n\u001b[0m\u001b[0;32m   1335\u001b[0m     \u001b[1;32mexcept\u001b[0m \u001b[0merrors\u001b[0m\u001b[1;33m.\u001b[0m\u001b[0mOpError\u001b[0m \u001b[1;32mas\u001b[0m \u001b[0me\u001b[0m\u001b[1;33m:\u001b[0m\u001b[1;33m\u001b[0m\u001b[0m\n\u001b[0;32m   1336\u001b[0m       \u001b[0mmessage\u001b[0m \u001b[1;33m=\u001b[0m \u001b[0mcompat\u001b[0m\u001b[1;33m.\u001b[0m\u001b[0mas_text\u001b[0m\u001b[1;33m(\u001b[0m\u001b[0me\u001b[0m\u001b[1;33m.\u001b[0m\u001b[0mmessage\u001b[0m\u001b[1;33m)\u001b[0m\u001b[1;33m\u001b[0m\u001b[0m\n",
      "\u001b[1;32mc:\\users\\spidern3mo\\appdata\\local\\programs\\python\\python36\\lib\\site-packages\\tensorflow\\python\\client\\session.py\u001b[0m in \u001b[0;36m_run_fn\u001b[1;34m(feed_dict, fetch_list, target_list, options, run_metadata)\u001b[0m\n\u001b[0;32m   1317\u001b[0m       \u001b[0mself\u001b[0m\u001b[1;33m.\u001b[0m\u001b[0m_extend_graph\u001b[0m\u001b[1;33m(\u001b[0m\u001b[1;33m)\u001b[0m\u001b[1;33m\u001b[0m\u001b[0m\n\u001b[0;32m   1318\u001b[0m       return self._call_tf_sessionrun(\n\u001b[1;32m-> 1319\u001b[1;33m           options, feed_dict, fetch_list, target_list, run_metadata)\n\u001b[0m\u001b[0;32m   1320\u001b[0m \u001b[1;33m\u001b[0m\u001b[0m\n\u001b[0;32m   1321\u001b[0m     \u001b[1;32mdef\u001b[0m \u001b[0m_prun_fn\u001b[0m\u001b[1;33m(\u001b[0m\u001b[0mhandle\u001b[0m\u001b[1;33m,\u001b[0m \u001b[0mfeed_dict\u001b[0m\u001b[1;33m,\u001b[0m \u001b[0mfetch_list\u001b[0m\u001b[1;33m)\u001b[0m\u001b[1;33m:\u001b[0m\u001b[1;33m\u001b[0m\u001b[0m\n",
      "\u001b[1;32mc:\\users\\spidern3mo\\appdata\\local\\programs\\python\\python36\\lib\\site-packages\\tensorflow\\python\\client\\session.py\u001b[0m in \u001b[0;36m_call_tf_sessionrun\u001b[1;34m(self, options, feed_dict, fetch_list, target_list, run_metadata)\u001b[0m\n\u001b[0;32m   1405\u001b[0m     return tf_session.TF_SessionRun_wrapper(\n\u001b[0;32m   1406\u001b[0m         \u001b[0mself\u001b[0m\u001b[1;33m.\u001b[0m\u001b[0m_session\u001b[0m\u001b[1;33m,\u001b[0m \u001b[0moptions\u001b[0m\u001b[1;33m,\u001b[0m \u001b[0mfeed_dict\u001b[0m\u001b[1;33m,\u001b[0m \u001b[0mfetch_list\u001b[0m\u001b[1;33m,\u001b[0m \u001b[0mtarget_list\u001b[0m\u001b[1;33m,\u001b[0m\u001b[1;33m\u001b[0m\u001b[0m\n\u001b[1;32m-> 1407\u001b[1;33m         run_metadata)\n\u001b[0m\u001b[0;32m   1408\u001b[0m \u001b[1;33m\u001b[0m\u001b[0m\n\u001b[0;32m   1409\u001b[0m   \u001b[1;32mdef\u001b[0m \u001b[0m_call_tf_sessionprun\u001b[0m\u001b[1;33m(\u001b[0m\u001b[0mself\u001b[0m\u001b[1;33m,\u001b[0m \u001b[0mhandle\u001b[0m\u001b[1;33m,\u001b[0m \u001b[0mfeed_dict\u001b[0m\u001b[1;33m,\u001b[0m \u001b[0mfetch_list\u001b[0m\u001b[1;33m)\u001b[0m\u001b[1;33m:\u001b[0m\u001b[1;33m\u001b[0m\u001b[0m\n",
      "\u001b[1;31mKeyboardInterrupt\u001b[0m: "
     ]
    }
   ],
   "source": [
    "init=tf.global_variables_initializer()\n",
    "sess=tf.Session()\n",
    "sess.run(init)\n",
    "\n",
    "for i in range(training_epochs):\n",
    "    sess.run(optimizer,feed_dict={x:input_x,y:input_y})\n",
    "    if i%display_steps==0:\n",
    "        c=sess.run(cost,feed_dict={x:input_x,y:input_y})\n",
    "        print(\"training \",'%04d'%i,\" cost=\",\"{:.09f}\".format(c))\n",
    "print(\"OPTIMIZATION IS DONE!!!\")"
   ]
  },
  {
   "cell_type": "code",
   "execution_count": 35,
   "metadata": {},
   "outputs": [
    {
     "data": {
      "text/plain": [
       "'correct_prediction=tf.equal(tf.argmax(y,1),tf.argmax(y_,1))\\naccuracy=tf.reduce_mean(tf.cast(correct_prediction,tf.float32))\\nprint(sess.run(accuracy,feed_dict={x:input_x,y_:input_y}))'"
      ]
     },
     "execution_count": 35,
     "metadata": {},
     "output_type": "execute_result"
    }
   ],
   "source": [
    "\"\"\"correct_prediction=tf.equal(tf.argmax(y,1),tf.argmax(y_,1))\n",
    "accuracy=tf.reduce_mean(tf.cast(correct_prediction,tf.float32))\n",
    "print(sess.run(accuracy,feed_dict={x:input_x,y_:input_y}))\"\"\""
   ]
  },
  {
   "cell_type": "code",
   "execution_count": 65,
   "metadata": {},
   "outputs": [
    {
     "name": "stdout",
     "output_type": "stream",
     "text": [
      "training cost= 7.177099 \n",
      "W= [[-0.03793808  0.09199846  0.1558005  -0.01959503 -0.04706092]\n",
      " [-0.06999644 -0.05643506  0.06280132 -0.04207415  0.15978093]\n",
      " [ 0.16838859  0.05080476  0.03467909  0.15029585  0.22075339]\n",
      " [-0.06717242  0.00079426 -0.02195795  0.01296374  0.05452399]\n",
      " [ 0.09751768 -0.02235989 -0.06154672 -0.12152424  0.05152001]\n",
      " [-0.07009715  0.12005881 -0.04656963  0.06798658 -0.01952686]\n",
      " [-0.10757761 -0.11678332  0.05184102 -0.11997538 -0.16812895]\n",
      " [ 0.05766153  0.04972052  0.05860519 -0.02660579  0.10204935]\n",
      " [-0.00117337 -0.13017254  0.01765574  0.05476211  0.05219555]\n",
      " [-0.16122892 -0.00817725 -0.08474181  0.063665    0.02490867]\n",
      " [ 0.09179594  0.03607472  0.01793083  0.12763348 -0.00332362]\n",
      " [-0.19137749  0.00190957 -0.05524538  0.01955752 -0.12332239]\n",
      " [ 0.1183577   0.17668782 -0.05899192 -0.10055691  0.01274543]\n",
      " [ 0.1034179   0.20261478  0.26213536  0.16538905  0.07551894]\n",
      " [-0.04581017 -0.1427408   0.04811118  0.12240756  0.06622022]\n",
      " [-0.12985629  0.01819491 -0.03610557  0.08487241 -0.11194592]\n",
      " [ 0.28008732  0.28009355  0.20442602  0.25624657  0.27727935]\n",
      " [ 0.06098023  0.04139361  0.04412632 -0.08813696  0.11402368]\n",
      " [ 0.03670877 -0.00244979  0.12912591 -0.00347745  0.16130187]\n",
      " [ 0.13518222  0.0622141   0.1850216  -0.03965658  0.00449926]] \n",
      "b= [-6.2525831e-04  0.0000000e+00 -1.3281954e-04 -3.7182028e-05\n",
      " -2.1017951e-04  0.0000000e+00  0.0000000e+00  0.0000000e+00\n",
      "  0.0000000e+00  0.0000000e+00  3.5987984e-04  0.0000000e+00\n",
      "  4.2876403e-04 -4.3461367e-04  0.0000000e+00  0.0000000e+00\n",
      " -6.8877643e-04  0.0000000e+00  0.0000000e+00  0.0000000e+00\n",
      "  0.0000000e+00 -4.7927717e-04 -1.8986578e-04  0.0000000e+00\n",
      "  0.0000000e+00 -9.6121163e-04  2.8006837e-04  0.0000000e+00\n",
      " -5.3405878e-04 -3.1649566e-04 -1.0638464e-04 -3.6899908e-04\n",
      "  0.0000000e+00  0.0000000e+00  0.0000000e+00 -7.3173729e-04\n",
      "  2.1489314e-04 -6.6829455e-04 -3.8481777e-04  0.0000000e+00\n",
      " -2.4466708e-04  0.0000000e+00  0.0000000e+00 -5.2607182e-05\n",
      "  0.0000000e+00  8.7558510e-05 -1.2725155e-05  0.0000000e+00\n",
      " -7.2752191e-06  9.2858216e-05  0.0000000e+00 -4.0551921e-04\n",
      "  0.0000000e+00 -4.6564743e-04 -1.6050292e-04  0.0000000e+00\n",
      "  0.0000000e+00  0.0000000e+00 -3.7170257e-04 -1.7905337e-05\n",
      "  0.0000000e+00  0.0000000e+00  0.0000000e+00 -2.5584278e-04\n",
      " -3.1879038e-04  1.0809997e-04 -7.6225126e-04  0.0000000e+00\n",
      " -7.2650501e-04 -9.2864892e-04 -1.9103367e-04  0.0000000e+00\n",
      "  0.0000000e+00  0.0000000e+00  0.0000000e+00 -4.8325048e-05\n",
      " -3.7824869e-04  0.0000000e+00 -3.4459875e-04  0.0000000e+00\n",
      "  0.0000000e+00  0.0000000e+00  0.0000000e+00 -4.1452899e-05\n",
      "  0.0000000e+00 -7.0561777e-04 -6.3373614e-04  0.0000000e+00\n",
      " -9.8943303e-04  0.0000000e+00  0.0000000e+00  0.0000000e+00\n",
      "  0.0000000e+00  1.7543318e-05  0.0000000e+00  8.9563055e-06\n",
      " -3.9265217e-04 -9.0927823e-04  0.0000000e+00 -5.2341644e-04]\n"
     ]
    },
    {
     "data": {
      "text/plain": [
       "'a=(input(\"x-coor:\"))\\nb=tf.float32(input(\"y-coor:\"))\\n#a=np.array([[a, b]],dtype=np.float32)\\na=[a, b]\\nprint(a)'"
      ]
     },
     "execution_count": 65,
     "metadata": {},
     "output_type": "execute_result"
    }
   ],
   "source": [
    "\n",
    "print(\"training cost=\",sess.run(cost,feed_dict={x:input_x,y:input_y}),\"\\nW=\",sess.run(w4),\"\\nb=\",sess.run(b1))\n",
    "\n",
    "\n",
    "\"\"\"a=(input(\"x-coor:\"))\n",
    "b=tf.float32(input(\"y-coor:\"))\n",
    "#a=np.array([[a, b]],dtype=np.float32)\n",
    "a=[a, b]\n",
    "print(a)\"\"\""
   ]
  },
  {
   "cell_type": "code",
   "execution_count": 66,
   "metadata": {},
   "outputs": [
    {
     "name": "stdout",
     "output_type": "stream",
     "text": [
      "['b1b3de810f1d46619cd868a470ab831c', '48b6dba5107b422fb17325c85021dd4f', '550789510924496fb451b653cabc626f', 'a67a898ec4f4482bb79ee39293c330e9', 'be7261b61da149aa805e10f395c46ed3']\n",
      "[[0.8617697  0.860897   0.8591162  0.8613093  0.8624789 ]\n",
      " [0.86454284 0.8636242  0.8617568  0.86406773 0.86527586]\n",
      " [0.8629064  0.8620139  0.86019546 0.86243945 0.86362594]\n",
      " [0.861881   0.8610069  0.8592234  0.8614203  0.862591  ]\n",
      " [0.86249286 0.8616099  0.8598106  0.86202973 0.8632073 ]\n",
      " [0.861881   0.8610069  0.8592234  0.8614203  0.862591  ]\n",
      " [0.8603781  0.8595305  0.85779756 0.8599262  0.86107427]\n",
      " [0.85950035 0.8586693  0.8569681  0.8590543  0.86018777]\n",
      " [0.8642708  0.8633568  0.8614984  0.8637973  0.8650014 ]\n",
      " [0.8609442  0.86008584 0.85833204 0.8604885  0.861646  ]\n",
      " [0.86203057 0.86115456 0.8593681  0.86156946 0.8627415 ]\n",
      " [0.86591035 0.8649665  0.86305046 0.86542636 0.86665654]\n",
      " [0.86184216 0.8609683  0.8591853  0.8613815  0.8625521 ]\n",
      " [0.861637   0.8607662  0.8589887  0.8611771  0.86234534]\n",
      " [0.8614263  0.8605617  0.8587974  0.8609693  0.8621311 ]\n",
      " [0.8596957  0.8588617  0.85715514 0.8592489  0.8603847 ]\n",
      " [0.8630379  0.86214525 0.8603276  0.8625716  0.8637574 ]\n",
      " [0.86174566 0.86087465 0.8590976  0.8612862  0.862454  ]\n",
      " [0.8629942  0.86210096 0.8602812  0.8625272  0.86371416]\n",
      " [0.8620122  0.86113644 0.8593502  0.8615511  0.86272305]\n",
      " [0.8595017  0.85867137 0.85697216 0.8590562  0.86018866]\n",
      " [0.863986   0.86307716 0.86122864 0.8635143  0.86471385]\n",
      " [0.8625127  0.86162776 0.8598237  0.86204845 0.8632284 ]\n",
      " [0.8659219  0.86497676 0.8630579  0.86543715 0.86666876]\n",
      " [0.8642368  0.8633213  0.86145896 0.86376214 0.8649683 ]\n",
      " [0.8642425  0.8633293  0.8614722  0.8637693  0.8649727 ]\n",
      " [0.86761075 0.86664    0.8646655  0.8671199  0.86837745]\n",
      " [0.8613428  0.86047906 0.85871565 0.86088586 0.8620474 ]\n",
      " [0.8638337  0.8629277  0.86108416 0.863363   0.8645602 ]\n",
      " [0.86226165 0.8613792  0.85957927 0.8617977  0.86297613]\n",
      " [0.86266357 0.8617761  0.85996765 0.86219853 0.86338043]\n",
      " [0.86177087 0.86090046 0.8591247  0.8613119  0.8624789 ]\n",
      " [0.8596453  0.85881203 0.8571066  0.85919863 0.860334  ]\n",
      " [0.8627903  0.86190027 0.86008644 0.86232424 0.86350864]\n",
      " [0.85882276 0.85800445 0.8563278  0.85838115 0.8595035 ]\n",
      " [0.85891265 0.85809237 0.8564117  0.8584703  0.8595946 ]\n",
      " [0.86091566 0.8600579  0.8583052  0.8604602  0.8616172 ]\n",
      " [0.8601186  0.8592778  0.8575586  0.8596697  0.8608111 ]\n",
      " [0.8602525  0.85940737 0.8576789  0.85980153 0.86094755]\n",
      " [0.8601302  0.8592895  0.85757077 0.8596814  0.8608226 ]\n",
      " [0.86252195 0.8616367  0.8598323  0.86205757 0.8632377 ]\n",
      " [0.86030614 0.8594613  0.8577342  0.8598557  0.86100084]\n",
      " [0.8658801  0.8649356  0.86301786 0.86539555 0.8666267 ]\n",
      " [0.8614317  0.8605683  0.85880667 0.86097544 0.8621359 ]\n",
      " [0.864075   0.8631641  0.8613114  0.8636025  0.864804  ]\n",
      " [0.8604874  0.8596372  0.85789895 0.8600345  0.861185  ]\n",
      " [0.8602998  0.85945505 0.8577282  0.8598494  0.8609944 ]\n",
      " [0.86164504 0.8607743  0.858997   0.8611852  0.8623534 ]\n",
      " [0.8605701  0.85971844 0.85797757 0.8601167  0.8612684 ]\n",
      " [0.8636447  0.8627415  0.8609034  0.8631748  0.86436975]\n",
      " [0.8643406  0.8634255  0.861565   0.8638668  0.8650717 ]\n",
      " [0.8605725  0.8597212  0.8579808  0.86011934 0.8612708 ]\n",
      " [0.86264795 0.86176026 0.8599511  0.8621827  0.863365  ]\n",
      " [0.8640849  0.86317384 0.86132085 0.86361235 0.8648139 ]\n",
      " [0.85952896 0.8586978  0.85699636 0.859083   0.86021656]\n",
      " [0.8616712  0.8608021  0.8590288  0.8612126  0.8623785 ]\n",
      " [0.85952663 0.8586959  0.8569957  0.859081   0.8602139 ]\n",
      " [0.8622839  0.8614044  0.85961145 0.8618219  0.8629966 ]\n",
      " [0.8642162  0.8633011  0.86143976 0.86374176 0.86494744]\n",
      " [0.86030567 0.8594608  0.85773367 0.8598552  0.8610003 ]\n",
      " [0.86198485 0.86111    0.8593255  0.8615242  0.86269516]\n",
      " [0.86472183 0.86379766 0.8619187  0.8642443  0.86545795]]\n"
     ]
    }
   ],
   "source": [
    "print(list_of_hubs)\n",
    "print( sess.run(y_, feed_dict={x: input_x}))"
   ]
  },
  {
   "cell_type": "code",
   "execution_count": 144,
   "metadata": {},
   "outputs": [
    {
     "name": "stdout",
     "output_type": "stream",
     "text": [
      "Tensor(\"Equal_4:0\", shape=(?,), dtype=bool)\n"
     ]
    }
   ],
   "source": [
    "correct_prediction=tf.equal(tf.argmax(y,1),tf.argmax(y_,1))\n",
    "print(correct_prediction)"
   ]
  },
  {
   "cell_type": "code",
   "execution_count": 145,
   "metadata": {},
   "outputs": [
    {
     "name": "stdout",
     "output_type": "stream",
     "text": [
      "Tensor(\"Mean_5:0\", shape=(), dtype=float32)\n"
     ]
    }
   ],
   "source": [
    "accuracy=tf.reduce_mean(tf.cast(correct_prediction,tf.float32))\n",
    "print(accuracy)"
   ]
  },
  {
   "cell_type": "code",
   "execution_count": 146,
   "metadata": {},
   "outputs": [
    {
     "name": "stdout",
     "output_type": "stream",
     "text": [
      "0.0\n"
     ]
    }
   ],
   "source": [
    "print(sess.run(accuracy,feed_dict={x:test_x,y:test_y}))"
   ]
  },
  {
   "cell_type": "code",
   "execution_count": 103,
   "metadata": {},
   "outputs": [
    {
     "name": "stdout",
     "output_type": "stream",
     "text": [
      "[[28.4710968 77.0486671]]\n"
     ]
    }
   ],
   "source": [
    "z=np.array([[28.4710968,77.0486671]])\n",
    "print(z)"
   ]
  },
  {
   "cell_type": "code",
   "execution_count": null,
   "metadata": {},
   "outputs": [],
   "source": []
  }
 ],
 "metadata": {
  "kernelspec": {
   "display_name": "Python 3",
   "language": "python",
   "name": "python3"
  },
  "language_info": {
   "codemirror_mode": {
    "name": "ipython",
    "version": 3
   },
   "file_extension": ".py",
   "mimetype": "text/x-python",
   "name": "python",
   "nbconvert_exporter": "python",
   "pygments_lexer": "ipython3",
   "version": "3.6.3"
  }
 },
 "nbformat": 4,
 "nbformat_minor": 2
}
